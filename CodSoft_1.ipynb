{
  "nbformat": 4,
  "nbformat_minor": 0,
  "metadata": {
    "colab": {
      "provenance": [],
      "toc_visible": true,
      "authorship_tag": "ABX9TyNnKvlCRsBcTW1708L0AV9N",
      "include_colab_link": true
    },
    "kernelspec": {
      "name": "python3",
      "display_name": "Python 3"
    },
    "language_info": {
      "name": "python"
    }
  },
  "cells": [
    {
      "cell_type": "markdown",
      "metadata": {
        "id": "view-in-github",
        "colab_type": "text"
      },
      "source": [
        "<a href=\"https://colab.research.google.com/github/Achiever777/CodSoft/blob/main/Codsoft1.ipynb\" target=\"_parent\"><img src=\"https://colab.research.google.com/assets/colab-badge.svg\" alt=\"Open In Colab\"/></a>"
      ]
    },
    {
      "cell_type": "code",
      "execution_count": 2,
      "metadata": {
        "colab": {
          "base_uri": "https://localhost:8080/"
        },
        "id": "D4RIiL4WtNya",
        "outputId": "3bee2bc4-83a4-4e9e-b1c9-db6df2ff3051"
      },
      "outputs": [
        {
          "output_type": "stream",
          "name": "stdout",
          "text": [
            "You: hello\n",
            "Bot: Hii there! How can I help you?\n"
          ]
        }
      ],
      "source": [
        "def simple_chatbot(user_input):\n",
        "    # Define predefined rules and responses\n",
        "    rules = {\n",
        "        \"hello\": \"Hii there! How can I help you?\",\n",
        "        \"I had to ask you a question\": \"Yeah! Please go on\",\n",
        "        \"how are you\": \"I'm good, what about you\",\n",
        "        \"bye\": \"Goodbye! Have a great day ahead\"\n",
        "    }\n",
        "\n",
        "    # Convert user input to lowercase for case-insensitive matching\n",
        "    user_input = user_input.lower()\n",
        "\n",
        "    # Check if user input matches any rule\n",
        "    if user_input in rules:\n",
        "        return rules[user_input]\n",
        "    else:\n",
        "        return \"I'm sorry, I am unable to understand it. \"\n",
        "\n",
        "user_input = input(\"You: \")\n",
        "response = simple_chatbot(user_input)\n",
        "print(\"Bot:\", response)"
      ]
    }
  ]
}
