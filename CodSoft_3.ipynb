{
  "nbformat": 4,
  "nbformat_minor": 0,
  "metadata": {
    "colab": {
      "provenance": [],
      "authorship_tag": "ABX9TyMowPlYr/xBzh5WEnjLNvFR",
      "include_colab_link": true
    },
    "kernelspec": {
      "name": "python3",
      "display_name": "Python 3"
    },
    "language_info": {
      "name": "python"
    }
  },
  "cells": [
    {
      "cell_type": "markdown",
      "metadata": {
        "id": "view-in-github",
        "colab_type": "text"
      },
      "source": [
        "<a href=\"https://colab.research.google.com/github/Achiever777/CodSoft/blob/main/CodSoft3.ipynb\" target=\"_parent\"><img src=\"https://colab.research.google.com/assets/colab-badge.svg\" alt=\"Open In Colab\"/></a>"
      ]
    },
    {
      "cell_type": "code",
      "source": [
        "import pandas as pd\n",
        "\n",
        "# Sample data: User ratings for movies\n",
        "data = {\n",
        "    'User1': {'Movie1': 4, 'Movie2': 5, 'Movie4': 1},\n",
        "    'User2': {'Movie2': 5, 'Movie3': 4, 'Movie5': 2},\n",
        "    'User3': {'Movie1': 1, 'Movie4': 5, 'Movie5': 3},\n",
        "    'User4': {'Movie1': 3, 'Movie2': 4, 'Movie4': 4},\n",
        "    'User5': {'Movie2': 2, 'Movie3': 3, 'Movie5': 4}\n",
        "}\n",
        "\n",
        "df = pd.DataFrame(data).fillna(0)\n",
        "\n",
        "def collaborative_filtering_simple(User_ratings, User_id):\n",
        "    # Calculate similarity between the target user and all other users\n",
        "    similarities = user_ratings.corrwith(user_ratings[User_id])\n",
        "\n",
        "    # Sort the movies based on similarity\n",
        "    recommended_movies = similarities.sort_values(ascending=False).index\n",
        "\n",
        "    return recommended_movies\n",
        "\n",
        "def main():\n",
        "    User_id = input(\"Enter user ID (User1-User5): \").strip()\n",
        "\n",
        "    if User_id not in df.index:\n",
        "        print(\"Invalid user ID. Please enter a valid user ID.\")\n",
        "        return\n",
        "\n",
        "    recommended_movies = collaborative_filtering_simple(df, User_id)\n",
        "\n",
        "    print(\"\\nRecommended movies for user\", User_id, \":\")\n",
        "    for movie_id in recommended_movies:\n",
        "        if df.at[User_id, movie_id] == 0:\n",
        "            print(movie_id)\n",
        "\n",
        "if __name__ == \"__main__\":\n",
        "    main()"
      ],
      "metadata": {
        "colab": {
          "base_uri": "https://localhost:8080/"
        },
        "id": "HIqWt6PXrFI2",
        "outputId": "b89bc96a-d45e-477e-c2ee-b99f4217a614"
      },
      "execution_count": 2,
      "outputs": [
        {
          "output_type": "stream",
          "name": "stdout",
          "text": [
            "Enter user ID (User1-User5): User6\n",
            "Invalid user ID. Please enter a valid user ID.\n"
          ]
        }
      ]
    }
  ]
}
